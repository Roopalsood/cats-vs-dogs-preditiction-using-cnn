{
 "cells": [
  {
   "cell_type": "code",
   "execution_count": 1,
   "id": "786134bc",
   "metadata": {},
   "outputs": [],
   "source": [
    "#Imported data set from kaggle \n",
    "#Consists of 4,000 images of dog and cats respectively."
   ]
  },
  {
   "cell_type": "code",
   "execution_count": 4,
   "id": "b9c415ea",
   "metadata": {},
   "outputs": [],
   "source": [
    "import numpy as np  \n",
    "#io operation \n",
    "import cv2    \n",
    "#pip install opencv-python (images into arrays)\n",
    "import os \n",
    "#to specify location of images\n",
    "import random\n",
    "import matplotlib.pyplot as plt\n",
    "import pickle\n",
    "#just to save data"
   ]
  },
  {
   "cell_type": "code",
   "execution_count": 5,
   "id": "b2da2392",
   "metadata": {},
   "outputs": [],
   "source": [
    "DIRECTORY = r'C:\\Users\\Roopal\\PROJECTS\\Cats vs Dogs Detection\\archive\\dogscats\\dogscats\\train'\n",
    "CATEGORIES = ['cats', 'dogs']"
   ]
  },
  {
   "cell_type": "code",
   "execution_count": 38,
   "id": "53e77129",
   "metadata": {},
   "outputs": [],
   "source": [
    "IMG_SIZE = 100\n",
    "\n",
    "data = []\n",
    "\n",
    "\n",
    "for category in CATEGORIES:\n",
    "    folder = os.path.join(DIRECTORY, category)\n",
    "    label = CATEGORIES.index(category)\n",
    "    for img in os.listdir(folder):\n",
    "        img_path = os.path.join(folder, img)\n",
    "        img_arr = cv2.imread(img_path) #image read\n",
    "        img_arr = cv2.resize(img_arr, (IMG_SIZE, IMG_SIZE))\n",
    "        data.append([img_arr, label])"
   ]
  },
  {
   "cell_type": "code",
   "execution_count": 27,
   "id": "0ee50ddb",
   "metadata": {},
   "outputs": [
    {
     "data": {
      "text/plain": [
       "8000"
      ]
     },
     "execution_count": 27,
     "metadata": {},
     "output_type": "execute_result"
    }
   ],
   "source": [
    "len(data)"
   ]
  },
  {
   "cell_type": "code",
   "execution_count": 40,
   "id": "8a301b77",
   "metadata": {},
   "outputs": [],
   "source": [
    "random.shuffle(data)"
   ]
  },
  {
   "cell_type": "code",
   "execution_count": 41,
   "id": "256a4cb4",
   "metadata": {},
   "outputs": [
    {
     "data": {
      "text/plain": [
       "[array([[[ 39,  38,  74],\n",
       "         [ 51,  45,  75],\n",
       "         [ 48,  58,  73],\n",
       "         ...,\n",
       "         [108, 101, 116],\n",
       "         [170, 179, 182],\n",
       "         [ 94,  85,  91]],\n",
       " \n",
       "        [[ 37,  43,  73],\n",
       "         [ 34,  39,  70],\n",
       "         [ 28,  39,  72],\n",
       "         ...,\n",
       "         [107, 119, 129],\n",
       "         [ 74,  99, 109],\n",
       "         [ 56,  72,  79]],\n",
       " \n",
       "        [[ 35,  39,  59],\n",
       "         [ 38,  47,  72],\n",
       "         [ 29,  37,  70],\n",
       "         ...,\n",
       "         [ 94,  85, 102],\n",
       "         [ 40,  48,  65],\n",
       "         [ 43,  51,  66]],\n",
       " \n",
       "        ...,\n",
       " \n",
       "        [[ 93,  80,  94],\n",
       "         [117, 121, 132],\n",
       "         [ 78,  83,  94],\n",
       "         ...,\n",
       "         [172, 174, 189],\n",
       "         [172, 165, 182],\n",
       "         [179, 167, 184]],\n",
       " \n",
       "        [[139, 125, 137],\n",
       "         [ 96,  97, 107],\n",
       "         [ 90,  91, 101],\n",
       "         ...,\n",
       "         [170, 161, 182],\n",
       "         [167, 155, 173],\n",
       "         [170, 163, 173]],\n",
       " \n",
       "        [[115, 101, 113],\n",
       "         [107, 108, 118],\n",
       "         [ 95,  96, 106],\n",
       "         ...,\n",
       "         [164, 155, 176],\n",
       "         [160, 150, 167],\n",
       "         [155, 140, 151]]], dtype=uint8),\n",
       " 0]"
      ]
     },
     "execution_count": 41,
     "metadata": {},
     "output_type": "execute_result"
    }
   ],
   "source": [
    "data[0] #0 indicates a cat "
   ]
  },
  {
   "cell_type": "code",
   "execution_count": 42,
   "id": "0b4e1f0a",
   "metadata": {},
   "outputs": [],
   "source": [
    "x=[]\n",
    "y=[]\n",
    "\n",
    "for features, lables in data:\n",
    "    x.append(features)\n",
    "    y.append(label)"
   ]
  },
  {
   "cell_type": "code",
   "execution_count": 43,
   "id": "5debb872",
   "metadata": {},
   "outputs": [],
   "source": [
    "x = np.array(x)\n",
    "y = np.array(y)"
   ]
  },
  {
   "cell_type": "code",
   "execution_count": 44,
   "id": "882bdc8d",
   "metadata": {},
   "outputs": [
    {
     "data": {
      "text/plain": [
       "8000"
      ]
     },
     "execution_count": 44,
     "metadata": {},
     "output_type": "execute_result"
    }
   ],
   "source": [
    "len(x)"
   ]
  },
  {
   "cell_type": "code",
   "execution_count": 45,
   "id": "417e008c",
   "metadata": {},
   "outputs": [
    {
     "data": {
      "text/plain": [
       "8000"
      ]
     },
     "execution_count": 45,
     "metadata": {},
     "output_type": "execute_result"
    }
   ],
   "source": [
    "len(y)"
   ]
  },
  {
   "cell_type": "code",
   "execution_count": 47,
   "id": "e5320453",
   "metadata": {},
   "outputs": [],
   "source": [
    "pickle.dump(x, open('x.pkl', 'wb')) #write in binary\n",
    "pickle.dump(y, open('y.pkl', 'wb'))"
   ]
  },
  {
   "cell_type": "code",
   "execution_count": null,
   "id": "5a9b0eb2",
   "metadata": {},
   "outputs": [],
   "source": []
  }
 ],
 "metadata": {
  "kernelspec": {
   "display_name": "Python 3 (ipykernel)",
   "language": "python",
   "name": "python3"
  },
  "language_info": {
   "codemirror_mode": {
    "name": "ipython",
    "version": 3
   },
   "file_extension": ".py",
   "mimetype": "text/x-python",
   "name": "python",
   "nbconvert_exporter": "python",
   "pygments_lexer": "ipython3",
   "version": "3.9.12"
  }
 },
 "nbformat": 4,
 "nbformat_minor": 5
}
